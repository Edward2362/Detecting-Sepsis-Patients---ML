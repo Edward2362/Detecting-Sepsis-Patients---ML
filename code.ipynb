{
 "cells": [
  {
   "cell_type": "markdown",
   "id": "c2a2c576",
   "metadata": {},
   "source": [
    "# Introduction\n",
    "Name: Nguyen Vinh Quang\n",
    "\n",
    "ID: s3817788\n",
    "\n",
    "Assessment 1 - COSC2753 - Machine Learning"
   ]
  },
  {
   "cell_type": "markdown",
   "id": "68ba0354",
   "metadata": {},
   "source": [
    "# Objective\n",
    "In this assessment, I will use the provided dataset provided by the Johns Hopkins University to train a ML model to predict if a patient will develop sepsis in the period of their stay in  the Intensive Care Units (ICUs)."
   ]
  },
  {
   "cell_type": "markdown",
   "id": "3fa6ad0c",
   "metadata": {},
   "source": [
    "# Data-preprocessing\n",
    "Firstly, I will import libraries that will be use in this assignment. Then read 2 data files Paitients_Files_Train.csv and Paitients_Files_Test.csv respectively as train test data."
   ]
  },
  {
   "cell_type": "code",
   "execution_count": 1,
   "id": "9d0e7b8a",
   "metadata": {
    "scrolled": false
   },
   "outputs": [
    {
     "name": "stdout",
     "output_type": "stream",
     "text": [
      "            ID  PRG   PL  PR  SK   TS   M11    BD2  Age  Insurance   Sepssis\n",
      "0    ICU200010    6  148  72  35    0  33.6  0.627   50          0  Positive\n",
      "1    ICU200011    1   85  66  29    0  26.6  0.351   31          0  Negative\n",
      "2    ICU200012    8  183  64   0    0  23.3  0.672   32          1  Positive\n",
      "3    ICU200013    1   89  66  23   94  28.1  0.167   21          1  Negative\n",
      "4    ICU200014    0  137  40  35  168  43.1  2.288   33          1  Positive\n",
      "..         ...  ...  ...  ..  ..  ...   ...    ...  ...        ...       ...\n",
      "594  ICU200604    6  123  72  45  230  33.6  0.733   34          0  Negative\n",
      "595  ICU200605    0  188  82  14  185  32.0  0.682   22          1  Positive\n",
      "596  ICU200606    0   67  76   0    0  45.3  0.194   46          1  Negative\n",
      "597  ICU200607    1   89  24  19   25  27.8  0.559   21          0  Negative\n",
      "598  ICU200608    1  173  74   0    0  36.8  0.088   38          1  Positive\n",
      "\n",
      "[599 rows x 11 columns]\n",
      "            ID  PRG   PL  PR  SK   TS   M11    BD2  Age  Insurance\n",
      "0    ICU200609    1  109  38  18  120  23.1  0.407   26          1\n",
      "1    ICU200610    1  108  88  19    0  27.1  0.400   24          1\n",
      "2    ICU200611    6   96   0   0    0  23.7  0.190   28          1\n",
      "3    ICU200612    1  124  74  36    0  27.8  0.100   30          1\n",
      "4    ICU200613    7  150  78  29  126  35.2  0.692   54          0\n",
      "..         ...  ...  ...  ..  ..  ...   ...    ...  ...        ...\n",
      "164  ICU200773   10  101  76  48  180  32.9  0.171   63          1\n",
      "165  ICU200774    2  122  70  27    0  36.8  0.340   27          1\n",
      "166  ICU200775    5  121  72  23  112  26.2  0.245   30          1\n",
      "167  ICU200776    1  126  60   0    0  30.1  0.349   47          1\n",
      "168  ICU200777    1   93  70  31    0  30.4  0.315   23          1\n",
      "\n",
      "[169 rows x 10 columns]\n"
     ]
    }
   ],
   "source": [
    "import pandas as pd\n",
    "import matplotlib.pyplot as plt\n",
    "import numpy as np\n",
    "import seaborn as sns\n",
    "\n",
    "# Read 2 paitients data files as train data and test data\n",
    "paitients_train_data = pd.read_csv(\"Paitients_Files_Train.csv\")\n",
    "print(paitients_train_data)\n",
    "paitients_test_data = pd.read_csv(\"Paitients_Files_Test.csv\")\n",
    "print(paitients_test_data)"
   ]
  },
  {
   "cell_type": "code",
   "execution_count": 2,
   "id": "5011818b",
   "metadata": {},
   "outputs": [
    {
     "name": "stdout",
     "output_type": "stream",
     "text": [
      "<class 'pandas.core.frame.DataFrame'>\n",
      "RangeIndex: 599 entries, 0 to 598\n",
      "Data columns (total 11 columns):\n",
      " #   Column     Non-Null Count  Dtype  \n",
      "---  ------     --------------  -----  \n",
      " 0   ID         599 non-null    object \n",
      " 1   PRG        599 non-null    int64  \n",
      " 2   PL         599 non-null    int64  \n",
      " 3   PR         599 non-null    int64  \n",
      " 4   SK         599 non-null    int64  \n",
      " 5   TS         599 non-null    int64  \n",
      " 6   M11        599 non-null    float64\n",
      " 7   BD2        599 non-null    float64\n",
      " 8   Age        599 non-null    int64  \n",
      " 9   Insurance  599 non-null    int64  \n",
      " 10  Sepssis    599 non-null    object \n",
      "dtypes: float64(2), int64(7), object(2)\n",
      "memory usage: 51.6+ KB\n"
     ]
    }
   ],
   "source": [
    "paitients_train_data.info()"
   ]
  },
  {
   "cell_type": "markdown",
   "id": "45a3b6af",
   "metadata": {},
   "source": [
    "After read and print out the data, I recorgnize that the target column \"Sepssis\" is currently in object data type so I need to convert the value its data type to int."
   ]
  },
  {
   "cell_type": "code",
   "execution_count": 3,
   "id": "9cda2e43",
   "metadata": {},
   "outputs": [
    {
     "name": "stdout",
     "output_type": "stream",
     "text": [
      "<class 'pandas.core.frame.DataFrame'>\n",
      "RangeIndex: 599 entries, 0 to 598\n",
      "Data columns (total 11 columns):\n",
      " #   Column     Non-Null Count  Dtype  \n",
      "---  ------     --------------  -----  \n",
      " 0   ID         599 non-null    object \n",
      " 1   PRG        599 non-null    int64  \n",
      " 2   PL         599 non-null    int64  \n",
      " 3   PR         599 non-null    int64  \n",
      " 4   SK         599 non-null    int64  \n",
      " 5   TS         599 non-null    int64  \n",
      " 6   M11        599 non-null    float64\n",
      " 7   BD2        599 non-null    float64\n",
      " 8   Age        599 non-null    int64  \n",
      " 9   Insurance  599 non-null    int64  \n",
      " 10  Sepssis    599 non-null    int64  \n",
      "dtypes: float64(2), int64(8), object(1)\n",
      "memory usage: 51.6+ KB\n"
     ]
    }
   ],
   "source": [
    "# Convert Sepssis to 1 if Positive and 0 if Negative\n",
    "paitients_train_data.loc[paitients_train_data['Sepssis'] == 'Positive', 'Sepssis'] = 1\n",
    "paitients_train_data.loc[paitients_train_data['Sepssis'] == 'Negative', 'Sepssis'] = 0\n",
    "\n",
    "# Convert Sepssis data type from object to int\n",
    "paitients_train_data['Sepssis'] = paitients_train_data['Sepssis'].astype('int64')\n",
    "paitients_train_data.info()"
   ]
  },
  {
   "cell_type": "markdown",
   "id": "7188c8e0",
   "metadata": {},
   "source": [
    "# EDA\n",
    "\n",
    "In order to have an insight on the dataset, I need to use the histogram to see the distribution of the data, box plots to point out outliers and the correlation matrix to see relationship between attributes. Furthermore, I use describe() function to get various summary statistics like minimum and maximum values."
   ]
  },
  {
   "cell_type": "code",
   "execution_count": 4,
   "id": "ea54e773",
   "metadata": {
    "scrolled": false
   },
   "outputs": [
    {
     "data": {
      "text/plain": [
       "PRG             AxesSubplot(0.125,0.772143;0.133621x0.107857)\n",
       "PL           AxesSubplot(0.285345,0.772143;0.133621x0.107857)\n",
       "PR            AxesSubplot(0.44569,0.772143;0.133621x0.107857)\n",
       "SK           AxesSubplot(0.606034,0.772143;0.133621x0.107857)\n",
       "TS           AxesSubplot(0.766379,0.772143;0.133621x0.107857)\n",
       "M11             AxesSubplot(0.125,0.642714;0.133621x0.107857)\n",
       "BD2          AxesSubplot(0.285345,0.642714;0.133621x0.107857)\n",
       "Age           AxesSubplot(0.44569,0.642714;0.133621x0.107857)\n",
       "Insurance    AxesSubplot(0.606034,0.642714;0.133621x0.107857)\n",
       "Sepssis      AxesSubplot(0.766379,0.642714;0.133621x0.107857)\n",
       "dtype: object"
      ]
     },
     "execution_count": 4,
     "metadata": {},
     "output_type": "execute_result"
    },
    {
     "data": {
      "image/png": "[encoded data removed]",
      "text/plain": [
       "<Figure size 1080x1080 with 30 Axes>"
      ]
     },
     "metadata": {
      "needs_background": "light"
     },
     "output_type": "display_data"
    }
   ],
   "source": [
    "paitients_train_data.plot(kind='box', subplots=True, layout=(6,5), sharex=False, sharey=False, figsize=(15,15))"
   ]
  },
  {
   "cell_type": "code",
   "execution_count": 5,
   "id": "12417f6d",
   "metadata": {
    "scrolled": false
   },
   "outputs": [
    {
     "data": {
      "text/plain": [
       "<Figure size 432x288 with 0 Axes>"
      ]
     },
     "metadata": {},
     "output_type": "display_data"
    },
    {
     "data": {
      "image/png": "[encoded data removed]",
      "text/plain": [
       "<Figure size 1080x1080 with 12 Axes>"
      ]
     },
     "metadata": {
      "needs_background": "light"
     },
     "output_type": "display_data"
    }
   ],
   "source": [
    "plt.figure()\n",
    "paitients_train_data.hist(figsize=(15,15))\n",
    "plt.show()"
   ]
  },
  {
   "cell_type": "code",
   "execution_count": 6,
   "id": "c78e3dbb",
   "metadata": {
    "scrolled": false
   },
   "outputs": [
    {
     "data": {
      "image/png": "[encoded data removed]",
      "text/plain": [
       "<Figure size 792x648 with 2 Axes>"
      ]
     },
     "metadata": {
      "needs_background": "light"
     },
     "output_type": "display_data"
    }
   ],
   "source": [
    "f, ax = plt.subplots(figsize=(11, 9))\n",
    "corr = paitients_train_data.corr()\n",
    "ax = sns.heatmap(\n",
    "    corr, \n",
    "    vmin=-1, vmax=1, center=0,\n",
    "    cmap=sns.diverging_palette(20, 220, n=200),\n",
    "    square=True\n",
    ")\n",
    "ax.set_xticklabels(\n",
    "    ax.get_xticklabels(),\n",
    "    rotation=90,\n",
    "    horizontalalignment='right'\n",
    ");"
   ]
  },
  {
   "cell_type": "code",
   "execution_count": 7,
   "id": "3b6944fd",
   "metadata": {},
   "outputs": [
    {
     "data": {
      "text/html": [
       "<div>\n",
       "<style scoped>\n",
       "    .dataframe tbody tr th:only-of-type {\n",
       "        vertical-align: middle;\n",
       "    }\n",
       "\n",
       "    .dataframe tbody tr th {\n",
       "        vertical-align: top;\n",
       "    }\n",
       "\n",
       "    .dataframe thead th {\n",
       "        text-align: right;\n",
       "    }\n",
       "</style>\n",
       "<table border=\"1\" class=\"dataframe\">\n",
       "  <thead>\n",
       "    <tr style=\"text-align: right;\">\n",
       "      <th></th>\n",
       "      <th>PRG</th>\n",
       "      <th>PL</th>\n",
       "      <th>PR</th>\n",
       "      <th>SK</th>\n",
       "      <th>TS</th>\n",
       "      <th>M11</th>\n",
       "      <th>BD2</th>\n",
       "      <th>Age</th>\n",
       "      <th>Insurance</th>\n",
       "      <th>Sepssis</th>\n",
       "    </tr>\n",
       "  </thead>\n",
       "  <tbody>\n",
       "    <tr>\n",
       "      <th>count</th>\n",
       "      <td>599.000000</td>\n",
       "      <td>599.000000</td>\n",
       "      <td>599.000000</td>\n",
       "      <td>599.000000</td>\n",
       "      <td>599.000000</td>\n",
       "      <td>599.000000</td>\n",
       "      <td>599.000000</td>\n",
       "      <td>599.000000</td>\n",
       "      <td>599.000000</td>\n",
       "      <td>599.000000</td>\n",
       "    </tr>\n",
       "    <tr>\n",
       "      <th>mean</th>\n",
       "      <td>3.824708</td>\n",
       "      <td>120.153589</td>\n",
       "      <td>68.732888</td>\n",
       "      <td>20.562604</td>\n",
       "      <td>79.460768</td>\n",
       "      <td>31.920033</td>\n",
       "      <td>0.481187</td>\n",
       "      <td>33.290484</td>\n",
       "      <td>0.686144</td>\n",
       "      <td>0.347245</td>\n",
       "    </tr>\n",
       "    <tr>\n",
       "      <th>std</th>\n",
       "      <td>3.362839</td>\n",
       "      <td>32.682364</td>\n",
       "      <td>19.335675</td>\n",
       "      <td>16.017622</td>\n",
       "      <td>116.576176</td>\n",
       "      <td>8.008227</td>\n",
       "      <td>0.337552</td>\n",
       "      <td>11.828446</td>\n",
       "      <td>0.464447</td>\n",
       "      <td>0.476492</td>\n",
       "    </tr>\n",
       "    <tr>\n",
       "      <th>min</th>\n",
       "      <td>0.000000</td>\n",
       "      <td>0.000000</td>\n",
       "      <td>0.000000</td>\n",
       "      <td>0.000000</td>\n",
       "      <td>0.000000</td>\n",
       "      <td>0.000000</td>\n",
       "      <td>0.078000</td>\n",
       "      <td>21.000000</td>\n",
       "      <td>0.000000</td>\n",
       "      <td>0.000000</td>\n",
       "    </tr>\n",
       "    <tr>\n",
       "      <th>25%</th>\n",
       "      <td>1.000000</td>\n",
       "      <td>99.000000</td>\n",
       "      <td>64.000000</td>\n",
       "      <td>0.000000</td>\n",
       "      <td>0.000000</td>\n",
       "      <td>27.100000</td>\n",
       "      <td>0.248000</td>\n",
       "      <td>24.000000</td>\n",
       "      <td>0.000000</td>\n",
       "      <td>0.000000</td>\n",
       "    </tr>\n",
       "    <tr>\n",
       "      <th>50%</th>\n",
       "      <td>3.000000</td>\n",
       "      <td>116.000000</td>\n",
       "      <td>70.000000</td>\n",
       "      <td>23.000000</td>\n",
       "      <td>36.000000</td>\n",
       "      <td>32.000000</td>\n",
       "      <td>0.383000</td>\n",
       "      <td>29.000000</td>\n",
       "      <td>1.000000</td>\n",
       "      <td>0.000000</td>\n",
       "    </tr>\n",
       "    <tr>\n",
       "      <th>75%</th>\n",
       "      <td>6.000000</td>\n",
       "      <td>140.000000</td>\n",
       "      <td>80.000000</td>\n",
       "      <td>32.000000</td>\n",
       "      <td>123.500000</td>\n",
       "      <td>36.550000</td>\n",
       "      <td>0.647000</td>\n",
       "      <td>40.000000</td>\n",
       "      <td>1.000000</td>\n",
       "      <td>1.000000</td>\n",
       "    </tr>\n",
       "    <tr>\n",
       "      <th>max</th>\n",
       "      <td>17.000000</td>\n",
       "      <td>198.000000</td>\n",
       "      <td>122.000000</td>\n",
       "      <td>99.000000</td>\n",
       "      <td>846.000000</td>\n",
       "      <td>67.100000</td>\n",
       "      <td>2.420000</td>\n",
       "      <td>81.000000</td>\n",
       "      <td>1.000000</td>\n",
       "      <td>1.000000</td>\n",
       "    </tr>\n",
       "  </tbody>\n",
       "</table>\n",
       "</div>"
      ],
      "text/plain": [
       "              PRG          PL          PR          SK          TS         M11  \\\n",
       "count  599.000000  599.000000  599.000000  599.000000  599.000000  599.000000   \n",
       "mean     3.824708  120.153589   68.732888   20.562604   79.460768   31.920033   \n",
       "std      3.362839   32.682364   19.335675   16.017622  116.576176    8.008227   \n",
       "min      0.000000    0.000000    0.000000    0.000000    0.000000    0.000000   \n",
       "25%      1.000000   99.000000   64.000000    0.000000    0.000000   27.100000   \n",
       "50%      3.000000  116.000000   70.000000   23.000000   36.000000   32.000000   \n",
       "75%      6.000000  140.000000   80.000000   32.000000  123.500000   36.550000   \n",
       "max     17.000000  198.000000  122.000000   99.000000  846.000000   67.100000   \n",
       "\n",
       "              BD2         Age   Insurance     Sepssis  \n",
       "count  599.000000  599.000000  599.000000  599.000000  \n",
       "mean     0.481187   33.290484    0.686144    0.347245  \n",
       "std      0.337552   11.828446    0.464447    0.476492  \n",
       "min      0.078000   21.000000    0.000000    0.000000  \n",
       "25%      0.248000   24.000000    0.000000    0.000000  \n",
       "50%      0.383000   29.000000    1.000000    0.000000  \n",
       "75%      0.647000   40.000000    1.000000    1.000000  \n",
       "max      2.420000   81.000000    1.000000    1.000000  "
      ]
     },
     "execution_count": 7,
     "metadata": {},
     "output_type": "execute_result"
    }
   ],
   "source": [
    "paitients_train_data.describe()"
   ]
  },
  {
   "cell_type": "markdown",
   "id": "0a203de8",
   "metadata": {},
   "source": [
    "**Analyze data**\n",
    "\n",
    "1. Histogram\n",
    "\n",
    "    * Most of the attributes are heavily skewed to the left.\n",
    "    * Values of TS and BD2 is far from the other attributes.\n",
    "    \n",
    "    \n",
    "2. box plot\n",
    "\n",
    "    * There are a lot of outliers in most of the attributes.\n",
    "    \n",
    "    \n",
    "3. Correlation matrix\n",
    "\n",
    "    * There is no pair of attributes that have a high correlation.\n",
    "    \n",
    "\n",
    "*Conclusion: Based on the graphs above, the data might need to be normalized and considered to eliminate as many outliers as possible.*\n",
    "\n",
    "\n",
    "**Eliminate outlier**\n",
    "\n",
    "In the data, there are some attributes, such as blood pressure(PR), body mass index(M11) and plasma glucose(PRG) can be recognized and researched. Moreover, the README.md file has declared that some attributes miss values. \n",
    "+ Based on the Centers for Disease Control, blood pleasure value can never be zero. (Centers for Disease Control and Prevention)\n",
    "+ About the body mass index, zero value is very preposterous because this attribute is a measure of body fat based on height and weight. (National Heart, Lung, and Blood Institudte)\n",
    "+ Plasma Glucose is a blood sugar level. Because the values of this attribute range from 0 to max 17 and there is no standard unit for measuring, values can represent the level of Plasma Glucose.\n",
    "\n",
    "*Conclusion: Based on the box plots of PR and M11, the value zero of these attributes are recognized as outliers that understand as empty values so I will replace it with the corresponding median.*"
   ]
  },
  {
   "cell_type": "code",
   "execution_count": 8,
   "id": "d6891911",
   "metadata": {},
   "outputs": [],
   "source": [
    "paitients_train_data.loc[paitients_train_data['PR'] == 0, 'PR'] = paitients_train_data['PR'].median()\n",
    "paitients_train_data.loc[paitients_train_data['M11'] == 0, 'M11'] = paitients_train_data['M11'].median()"
   ]
  },
  {
   "cell_type": "markdown",
   "id": "da2fa8f6",
   "metadata": {},
   "source": [
    "# Setting up the performance (evaluation) metric\n",
    "\n",
    "Based on the News in Health, Sepsis is also known as blood poisoning. Even with early treatment, this disease can kill 1 in 5 affected people (News in Health). Therefore, Sepsis can highly cause fatalities if it is not recognized on time.\n",
    "\n",
    "Realizing the danger of Sepsis, I want my model to get as many affected cases as possible so I will consider using `recall_score` and `f1_score` as metrics to measure performance. Moreover, because all of these attributes are statistics to diagnose Sepsis, I want to equally treat them with `macro_average`. For `recall_score`, I expect to nearly reach 75% so `f1_score` will be slightly smaller, around 72%.\n",
    "\n",
    "Finally, I will make the ultimate judgment with the `ROC curve` and `AUC_score` metrics. "
   ]
  },
  {
   "cell_type": "markdown",
   "id": "6cfd6f73",
   "metadata": {},
   "source": [
    "# Setup the experiment - data splits"
   ]
  },
  {
   "cell_type": "code",
   "execution_count": 9,
   "id": "7d4b2536",
   "metadata": {
    "scrolled": true
   },
   "outputs": [
    {
     "name": "stdout",
     "output_type": "stream",
     "text": [
      "(599, 8)\n",
      "(599, 1)\n",
      "(169, 8)\n"
     ]
    }
   ],
   "source": [
    "paitients_data_X = paitients_train_data.drop(['ID', 'Insurance', 'Sepssis'], axis=1)\n",
    "paitients_data_Y = paitients_train_data[['Sepssis']]\n",
    "test_X = paitients_test_data.drop(['ID', 'Insurance'], axis=1)\n",
    "\n",
    "print(paitients_data_X.shape)\n",
    "print(paitients_data_Y.shape)\n",
    "print(test_X.shape)"
   ]
  },
  {
   "cell_type": "code",
   "execution_count": 10,
   "id": "a6051fde",
   "metadata": {
    "scrolled": true
   },
   "outputs": [
    {
     "name": "stdout",
     "output_type": "stream",
     "text": [
      "(479, 8)\n",
      "(120, 8)\n",
      "(479, 1)\n",
      "(120, 1)\n"
     ]
    }
   ],
   "source": [
    "from sklearn.model_selection import train_test_split\n",
    "\n",
    "train_X, val_X, train_Y, val_Y = train_test_split(paitients_data_X, paitients_data_Y, test_size=0.2, shuffle=True)\n",
    "print(train_X.shape)\n",
    "print(val_X.shape)\n",
    "print(train_Y.shape)\n",
    "print(val_Y.shape)"
   ]
  },
  {
   "cell_type": "markdown",
   "id": "80c28f8a",
   "metadata": {},
   "source": [
    "From train data set, I got `train_X`, `train_Y`, `val_X`, `val_Y` with train set is 80% and validation set is 20%\n",
    "From test data set, I got `test_X`\n",
    "\n",
    "Before I develop the first model, I will set up a function to reduce the redundancy when getting f1 and recall scores."
   ]
  },
  {
   "cell_type": "code",
   "execution_count": 11,
   "id": "85e56e6c",
   "metadata": {},
   "outputs": [],
   "source": [
    "from sklearn.metrics import f1_score\n",
    "from sklearn.metrics import recall_score\n",
    "\n",
    "def get_f1_and_recall_scores(clf, train_X, train_Y, val_X, val_Y):\n",
    "    # get prediction by provided the model\n",
    "    train_pred = clf.predict(train_X)\n",
    "    val_pred = clf.predict(val_X)\n",
    "    \n",
    "    # calculate f1 score\n",
    "    train_f1 = f1_score(train_Y, train_pred, average='macro')\n",
    "    val_f1 = f1_score(val_Y, val_pred, average='macro')\n",
    "    \n",
    "    # calculate recall score\n",
    "    train_recall = recall_score(train_Y, train_pred, average='macro')\n",
    "    val_recall = recall_score(val_Y, val_pred, average='macro')\n",
    "    \n",
    "    return train_f1, val_f1, train_recall, val_recall"
   ]
  },
  {
   "cell_type": "markdown",
   "id": "24c7264a",
   "metadata": {},
   "source": [
    "# Models\n",
    "## Logistic Regression (model 1)\n",
    "Because of the output only has two value 0 and 1 so Logistic Regression is one of the best choice.\n"
   ]
  },
  {
   "cell_type": "code",
   "execution_count": 12,
   "id": "fe980595",
   "metadata": {},
   "outputs": [],
   "source": [
    "from sklearn.linear_model import LogisticRegression\n",
    "clf_logR = LogisticRegression(random_state=0, penalty='none', solver='saga', \n",
    "                         max_iter=10000, \n",
    "                         class_weight='balanced')"
   ]
  },
  {
   "cell_type": "code",
   "execution_count": 13,
   "id": "76e5a55b",
   "metadata": {},
   "outputs": [],
   "source": [
    "train_X_logR = train_X\n",
    "val_X_logR = val_X"
   ]
  },
  {
   "cell_type": "code",
   "execution_count": 14,
   "id": "7223d99d",
   "metadata": {
    "scrolled": true
   },
   "outputs": [
    {
     "name": "stdout",
     "output_type": "stream",
     "text": [
      "Train F1-Score score of the logistic regression model: 0.668\n",
      "Validation F1-Score score of the logistic regression model: 0.648\n",
      "Train Recall score of the logistic regression model: 0.689\n",
      "Validation Recall score of the logistic regression model: 0.668\n"
     ]
    }
   ],
   "source": [
    "clf_logR.fit(train_X_logR, train_Y.to_numpy().ravel())\n",
    "\n",
    "train_f1_logR, val_f1_logR, train_recall_logR, val_recall_logR = get_f1_and_recall_scores(clf_logR, train_X_logR, train_Y, val_X_logR, val_Y)\n",
    "\n",
    "\n",
    "print(\"Train F1-Score score of the logistic regression model: {:.3f}\".format(train_f1_logR))\n",
    "print(\"Validation F1-Score score of the logistic regression model: {:.3f}\".format(val_f1_logR))\n",
    "\n",
    "print(\"Train Recall score of the logistic regression model: {:.3f}\".format(train_recall_logR))\n",
    "print(\"Validation Recall score of the logistic regression model: {:.3f}\".format(val_recall_logR))"
   ]
  },
  {
   "cell_type": "markdown",
   "id": "5c2caa96",
   "metadata": {},
   "source": [
    "**Analyze the first model: Logistic Regression**\n",
    "\n",
    "Based on the result of the f1 and recall score, the gap between the train and validation is not negligible. However, the model does not have a good performance. It might be caused because the current model is linear. Therefore, I will apply `Polynomial Feature` and with `MinMaxScaler` as a scaling mechanism. I choose `MinMaxScaler` because histograms on the EDA did not have Normal or Gaussian distribution (GeeksforGeeks)."
   ]
  },
  {
   "cell_type": "markdown",
   "id": "2ae3f252",
   "metadata": {},
   "source": [
    "## Polynomial Logistic Regression (model 2)\n",
    "\n",
    "In order to get the best order for preventing the model from overfitting or underfitting the data, I will use `GridSearchCV`"
   ]
  },
  {
   "cell_type": "code",
   "execution_count": 15,
   "id": "9236674a",
   "metadata": {
    "scrolled": true
   },
   "outputs": [
    {
     "data": {
      "text/plain": [
       "GridSearchCV(estimator=Pipeline(steps=[('polynomialfeatures',\n",
       "                                        PolynomialFeatures()),\n",
       "                                       ('minmaxscaler', MinMaxScaler()),\n",
       "                                       ('logisticregression',\n",
       "                                        LogisticRegression(class_weight='balanced',\n",
       "                                                           max_iter=10000,\n",
       "                                                           penalty='none',\n",
       "                                                           random_state=0,\n",
       "                                                           solver='saga'))]),\n",
       "             param_grid={'polynomialfeatures__degree': array([2, 3, 4, 5])},\n",
       "             scoring='recall')"
      ]
     },
     "execution_count": 15,
     "metadata": {},
     "output_type": "execute_result"
    }
   ],
   "source": [
    "from sklearn.preprocessing import PolynomialFeatures\n",
    "from sklearn.preprocessing import MinMaxScaler\n",
    "from sklearn.model_selection import GridSearchCV\n",
    "from sklearn.pipeline import make_pipeline\n",
    "\n",
    "clf_poly_logR = LogisticRegression(random_state=0, penalty='none', solver='saga', \n",
    "                         max_iter=10000, \n",
    "                         class_weight='balanced')\n",
    "\n",
    "parms = {'polynomialfeatures__degree': np.arange(2, 6)}\n",
    "model = make_pipeline(PolynomialFeatures(), MinMaxScaler(), clf_poly_logR)\n",
    "\n",
    "gridSearch = GridSearchCV(model, parms, scoring='recall')\n",
    "gridSearch.fit(train_X, train_Y.to_numpy().ravel())"
   ]
  },
  {
   "cell_type": "code",
   "execution_count": 16,
   "id": "e1fdade3",
   "metadata": {},
   "outputs": [
    {
     "name": "stdout",
     "output_type": "stream",
     "text": [
      "{'polynomialfeatures__degree': 2}\n"
     ]
    }
   ],
   "source": [
    "print(gridSearch.best_params_)"
   ]
  },
  {
   "cell_type": "markdown",
   "id": "bdbb23dd",
   "metadata": {},
   "source": [
    "The best degree for the model is 2."
   ]
  },
  {
   "cell_type": "code",
   "execution_count": 17,
   "id": "e43583ec",
   "metadata": {},
   "outputs": [],
   "source": [
    "poly = PolynomialFeatures(2)\n",
    "poly.fit(train_X)\n",
    "train_X_poly_logR = poly.transform(train_X)\n",
    "val_X_poly_logR = poly.transform(val_X)"
   ]
  },
  {
   "cell_type": "code",
   "execution_count": 18,
   "id": "7b36cd82",
   "metadata": {},
   "outputs": [],
   "source": [
    "scaler = MinMaxScaler()\n",
    "scaler.fit(train_X_poly_logR)\n",
    "\n",
    "train_X_normalized_poly_logR = scaler.transform(train_X_poly_logR)\n",
    "val_X_normalized_poly_logR = scaler.transform(val_X_poly_logR)"
   ]
  },
  {
   "cell_type": "markdown",
   "id": "ba5f205b",
   "metadata": {},
   "source": [
    "Apply the `PolynomialFeatures` with order 2 with normalization"
   ]
  },
  {
   "cell_type": "code",
   "execution_count": 19,
   "id": "ab4f17bd",
   "metadata": {
    "scrolled": true
   },
   "outputs": [
    {
     "name": "stdout",
     "output_type": "stream",
     "text": [
      "Train F1-Score score of the polynomial logistic regression model: 0.777\n",
      "Validation F1-Score score of the polynomial logistic regression model: 0.741\n",
      "Train Recall score of the polynomial logistic regression model: 0.788\n",
      "Validation Recall score of the polynomial logistic regression model: 0.756\n"
     ]
    }
   ],
   "source": [
    "clf_poly_logR.fit(train_X_normalized_poly_logR, train_Y.to_numpy().ravel())\n",
    "\n",
    "train_f1_normalized_poly_logR, val_f1_normalized_poly_logR, train_recall_normalized_poly_logR, val_recall_normalized_poly_logR = get_f1_and_recall_scores(clf_poly_logR, train_X_normalized_poly_logR, train_Y, val_X_normalized_poly_logR, val_Y)\n",
    "\n",
    "\n",
    "print(\"Train F1-Score score of the polynomial logistic regression model: {:.3f}\".format(train_f1_normalized_poly_logR))\n",
    "print(\"Validation F1-Score score of the polynomial logistic regression model: {:.3f}\".format(val_f1_normalized_poly_logR))\n",
    "\n",
    "print(\"Train Recall score of the polynomial logistic regression model: {:.3f}\".format(train_recall_normalized_poly_logR))\n",
    "print(\"Validation Recall score of the polynomial logistic regression model: {:.3f}\".format(val_recall_normalized_poly_logR))\n"
   ]
  },
  {
   "cell_type": "markdown",
   "id": "e055432b",
   "metadata": {},
   "source": [
    "**Analyze the second model: Polynomial Logistic Regression**\n",
    "\n",
    "Based on the result of the f1 and recall score, the train is slightly higher than validation which means underfitting. Furthermore, the recall and f1 scores nearly reach my objective. Therefore, I should apply regularization to get a better model."
   ]
  },
  {
   "cell_type": "markdown",
   "id": "f162bc2e",
   "metadata": {},
   "source": [
    "## Regularized Polynomial Logistic Regression (model 3)\n"
   ]
  },
  {
   "cell_type": "code",
   "execution_count": 21,
   "id": "310b2c43",
   "metadata": {},
   "outputs": [],
   "source": [
    "lambda_paras = np.logspace(-5, 1, num=25)    # establish the lambda values to test (grid)\n",
    "# Then search\n",
    "train_performace = list()\n",
    "valid_performace = list()\n",
    "for lambda_para in lambda_paras:\n",
    "    clf = LogisticRegression(penalty='l2', C = 1.0/lambda_para, \n",
    "                             random_state=0, solver='liblinear', max_iter=1000 , \n",
    "                             class_weight='balanced')   #create a classifier with a different lambda value\n",
    "    \n",
    "    clf.fit(train_X_normalized_poly_logR, train_Y.to_numpy().ravel())        #train the classifier\n",
    "    \n",
    "    train_pred = clf.predict(train_X_normalized_poly_logR)\n",
    "    train_f1 = f1_score(train_Y, train_pred, average='macro')   #calculate the train f1-score\n",
    "    \n",
    "    val_pred = clf.predict(val_X_normalized_poly_logR)\n",
    "    val_f1 = f1_score(val_Y, val_pred, average='macro')         #calculate the validation f1-score\n",
    "    \n",
    "    train_performace.append(train_f1)\n",
    "    valid_performace.append(val_f1)"
   ]
  },
  {
   "cell_type": "code",
   "execution_count": 22,
   "id": "d867ec80",
   "metadata": {
    "scrolled": true
   },
   "outputs": [
    {
     "data": {
      "image/png": "[encoded data removed]",
      "text/plain": [
       "<Figure size 432x288 with 1 Axes>"
      ]
     },
     "metadata": {
      "needs_background": "light"
     },
     "output_type": "display_data"
    }
   ],
   "source": [
    "plt.plot([1.0/lambda_para for lambda_para in lambda_paras], \n",
    "         [tp for tp in train_performace], 'r-')\n",
    "plt.plot([1.0/lambda_para for lambda_para in lambda_paras], \n",
    "         [vp for vp in valid_performace], 'b--')\n",
    "plt.xscale(\"log\")\n",
    "plt.ylabel('F1 Score')\n",
    "plt.xlabel('Model Capacity')\n",
    "plt.legend(['Training','Validation'])\n",
    "plt.show()"
   ]
  },
  {
   "cell_type": "markdown",
   "id": "65f99c80",
   "metadata": {},
   "source": [
    "Based on the graph above, the best lambda (C) for the model is around 30"
   ]
  },
  {
   "cell_type": "code",
   "execution_count": 40,
   "id": "de4815f2",
   "metadata": {
    "scrolled": true
   },
   "outputs": [
    {
     "name": "stdout",
     "output_type": "stream",
     "text": [
      "Train F1-Score score of the regularised polynomial logistic regression model: 0.758\n",
      "Validation F1-Score score of the regularised polynomial logistic regression model: 0.748\n",
      "Train Recall score of the regularised polynomial logistic regression model: 0.766\n",
      "Validation Recall score of the regularised polynomial logistic regression model: 0.762\n"
     ]
    }
   ],
   "source": [
    "clf_regularised_poly_logR = LogisticRegression(penalty='l2', C = 29, \n",
    "                             random_state=0, solver='liblinear', max_iter=10000 , \n",
    "                             class_weight='balanced')   #create a classifier with a different lambda value\n",
    "    \n",
    "clf_regularised_poly_logR.fit(train_X_normalized_poly_logR, train_Y.to_numpy().ravel())        #train the classifier\n",
    "    \n",
    "train_f1_reguNormalized_poly_logR, val_f1_reguNormalized_poly_logR, train_recall_reguNormalized_poly_logR, val_recall_reguNormalized_poly_logR = get_f1_and_recall_scores(clf_regularised_poly_logR, train_X_normalized_poly_logR, train_Y, val_X_normalized_poly_logR, val_Y)\n",
    "\n",
    "print(\"Train F1-Score score of the regularised polynomial logistic regression model: {:.3f}\".format(train_f1_reguNormalized_poly_logR))    \n",
    "print(\"Validation F1-Score score of the regularised polynomial logistic regression model: {:.3f}\".format(val_f1_reguNormalized_poly_logR))\n",
    "\n",
    "print(\"Train Recall score of the regularised polynomial logistic regression model: {:.3f}\".format(train_recall_reguNormalized_poly_logR))\n",
    "print(\"Validation Recall score of the regularised polynomial logistic regression model: {:.3f}\".format(val_recall_reguNormalized_poly_logR))\n"
   ]
  },
  {
   "cell_type": "markdown",
   "id": "5c5ed554",
   "metadata": {},
   "source": [
    "**Analyze the third model: Regularized Polynomial Logistic Regression**\n",
    "\n",
    "Based on the result of the f1 and recall score, all of my objectives has achieved. There is nearly no gap between the train and validation accuracy which means my model is appropriate-fitting. The recall and f1 scores also reach the goal from the beginning.\n",
    "\n",
    "However, I will develop another classification model to compare with the Regularized Polynomial Logistic Regression which is the Decision Tree."
   ]
  },
  {
   "cell_type": "markdown",
   "id": "064e47fc",
   "metadata": {},
   "source": [
    "## Decision Tree"
   ]
  },
  {
   "cell_type": "markdown",
   "id": "11d299d0",
   "metadata": {},
   "source": [
    "In order to get the best performance for Decision Tree, I will apply pre pruning to find the `max_depth` and `min_samples_split` by using `GridSearchCV`"
   ]
  },
  {
   "cell_type": "code",
   "execution_count": 52,
   "id": "2dfe0be9",
   "metadata": {},
   "outputs": [
    {
     "data": {
      "text/plain": [
       "GridSearchCV(estimator=DecisionTreeClassifier(class_weight='balanced',\n",
       "                                              criterion='entropy'),\n",
       "             param_grid={'max_depth': array([  1,  51, 101, 151, 201, 251, 301, 351]),\n",
       "                         'min_samples_split': array([ 2,  7, 12, 17, 22, 27, 32, 37, 42, 47])},\n",
       "             scoring='f1_macro')"
      ]
     },
     "execution_count": 52,
     "metadata": {},
     "output_type": "execute_result"
    }
   ],
   "source": [
    "from sklearn import tree\n",
    "\n",
    "parameters = {'max_depth':np.arange(1,400, 50), 'min_samples_split':np.arange(2,50,5)}\n",
    "\n",
    "dt_clf = tree.DecisionTreeClassifier(criterion='entropy', class_weight='balanced')\n",
    "Gridclf = GridSearchCV(dt_clf, parameters, scoring='recall')\n",
    "Gridclf.fit(train_X, train_Y)"
   ]
  },
  {
   "cell_type": "code",
   "execution_count": 53,
   "id": "0ba7dc07",
   "metadata": {},
   "outputs": [
    {
     "name": "stdout",
     "output_type": "stream",
     "text": [
      "0.7280920514015847\n",
      "{'max_depth': 51, 'min_samples_split': 27}\n"
     ]
    }
   ],
   "source": [
    "print(Gridclf.best_score_)\n",
    "print(Gridclf.best_params_)"
   ]
  },
  {
   "cell_type": "code",
   "execution_count": 54,
   "id": "fa849f0d",
   "metadata": {},
   "outputs": [],
   "source": [
    "clf_tree = Gridclf.best_estimator_"
   ]
  },
  {
   "cell_type": "code",
   "execution_count": 51,
   "id": "f41c9a89",
   "metadata": {
    "scrolled": true
   },
   "outputs": [
    {
     "name": "stdout",
     "output_type": "stream",
     "text": [
      "Train f1 score of Decision Tree: 0.840\n",
      "Validation f1 score of Decision Tree: 0.670\n",
      "Train Recall score of Decision Tree: 0.851\n",
      "Validation Recall score of Decision Tree: 0.686\n"
     ]
    }
   ],
   "source": [
    "train_f1_tree, val_f1_tree, train_recall_tree, val_recall_tree = get_f1_and_recall_scores(clf_tree, train_X, train_Y, val_X, val_Y)\n",
    "print(\"Train f1 score of Decision Tree: {:.3f}\".format(train_f1_tree))\n",
    "print(\"Validation f1 score of Decision Tree: {:.3f}\".format(val_f1_tree))\n",
    "print(\"Train Recall score of Decision Tree: {:.3f}\".format(train_recall_tree))\n",
    "print(\"Validation Recall score of Decision Tree: {:.3f}\".format(val_recall_tree))"
   ]
  },
  {
   "cell_type": "markdown",
   "id": "f09ae0c1",
   "metadata": {},
   "source": [
    "**Analyze the fourth model: Decision Tree**\n",
    "\n",
    "Based on the result of the f1 and recall score, the gap between train and validation is quite big which means it is underfitting. \n"
   ]
  },
  {
   "cell_type": "markdown",
   "id": "147c5815",
   "metadata": {},
   "source": [
    "# Ultimate Judgement"
   ]
  },
  {
   "cell_type": "code",
   "execution_count": 60,
   "id": "662d1cac",
   "metadata": {
    "scrolled": false
   },
   "outputs": [
    {
     "data": {
      "image/png": "[encoded data removed]",
      "text/plain": [
       "<Figure size 432x288 with 1 Axes>"
      ]
     },
     "metadata": {
      "needs_background": "light"
     },
     "output_type": "display_data"
    },
    {
     "name": "stdout",
     "output_type": "stream",
     "text": [
      "0.7460110713122762\n",
      "0.8218821230869424\n",
      "0.8567241940735917\n",
      "0.7044936502767829\n"
     ]
    }
   ],
   "source": [
    "from sklearn.metrics import roc_curve, roc_auc_score\n",
    "\n",
    "# Create baseline\n",
    "r_prob = [0 for _ in range(len(val_Y))]\n",
    "\n",
    "probas_logR = clf_logR.predict_proba(val_X_logR)\n",
    "probas_normalized_poly_logR = clf_poly_logR.predict_proba(val_X_normalized_poly_logR)\n",
    "probas_reguNormalized_poly_logR = clf_regularised_poly_logR.predict_proba(val_X_normalized_poly_logR)\n",
    "probas_tree = clf_tree.predict_proba(val_X)\n",
    "probas_tree_post = clf_post.predict_proba(val_X)\n",
    "\n",
    "# Calculate AUC score\n",
    "model1 = roc_auc_score(val_Y, probas_logR[:,1])\n",
    "model2 = roc_auc_score(val_Y, probas_normalized_poly_logR[:,1])\n",
    "model3 = roc_auc_score(val_Y, probas_reguNormalized_poly_logR[:,1])\n",
    "model4 = roc_auc_score(val_Y, probas_tree[:,1])\n",
    "\n",
    "# Calculate the ROC curve for each model\n",
    "fpr, tpr, _  = roc_curve(val_Y, r_prob)\n",
    "model1_fpr, model1_tpr, _ = roc_curve(val_Y, probas_logR[:, 1])\n",
    "model2_fpr, model2_tpr, _ = roc_curve(val_Y, probas_normalized_poly_logR[:, 1])\n",
    "model3_fpr, model3_tpr, _ = roc_curve(val_Y, probas_reguNormalized_poly_logR[:, 1])\n",
    "model4_fpr, model4_tpr, _ = roc_curve(val_Y, probas_tree[:, 1])\n",
    "\n",
    "# Plot the curves\n",
    "plt.plot(fpr, tpr, linestyle='--', label=\"Baseline\")\n",
    "plt.plot(model1_fpr, model1_tpr, marker='.', label=\"Logistic Regression\")\n",
    "plt.plot(model2_fpr, model2_tpr, marker='.', label=\"Polynomial-order 2 Logistic Regression\")\n",
    "plt.plot(model3_fpr, model3_tpr, marker='.', label=\"Regularised Polynomial-order 2 Logistic Regression\")\n",
    "plt.plot(model4_fpr, model4_tpr, marker='.', label=\"Decision Tree\")\n",
    "\n",
    "plt.xlabel('False Positive Rate')\n",
    "plt.ylabel('True Positive Rate')\n",
    "plt.legend()\n",
    "plt.show()\n",
    "\n",
    "# Get AUC score\n",
    "print(model1)\n",
    "print(model2)\n",
    "print(model3)\n",
    "print(model4)"
   ]
  },
  {
   "cell_type": "markdown",
   "id": "6f3bc39d",
   "metadata": {},
   "source": [
    "Until this point, I have created 4 models in order to predict whether patients might develop Sepsis or not and also plotted the ROC curve of each model. According to the graph above, the Regularised Polynomial-order 2 Logistic Regression has the best performance on the sensitivity with positive values. The AUC score of this model is also the highest which means has the best performance in distinguishing between positive and negative values. Moreover, the recall score and f1 score of the model are also highest respectively is 76% and 75%. However, some positive cases will be detected as negative cases.\n",
    "\n",
    "**In conclusion, I will choose the third model which is the Regularised Polynomial-order 2 Logistic Regression to predict the best model.**"
   ]
  },
  {
   "cell_type": "markdown",
   "id": "ba0fdb78",
   "metadata": {},
   "source": [
    "# Predicting test data"
   ]
  },
  {
   "cell_type": "markdown",
   "id": "f5bfc582",
   "metadata": {},
   "source": [
    "Because I decided to use the Regularised Polynomial-order 2 Logistic Regression as final model, I need to transform the test before stating prediction."
   ]
  },
  {
   "cell_type": "code",
   "execution_count": 69,
   "id": "15318ecf",
   "metadata": {
    "scrolled": true
   },
   "outputs": [],
   "source": [
    "test_X_poly_logR = poly.transform(test_X)\n",
    "test_X_normalized_poly_logR = scaler.transform(test_X_poly_logR)\n",
    "test_pred = clf_regularised_poly_logR.predict(test_X_normalized_poly_logR)"
   ]
  },
  {
   "cell_type": "code",
   "execution_count": 67,
   "id": "49e6939f",
   "metadata": {},
   "outputs": [],
   "source": [
    "pd.DataFrame(test_pred, columns=['Sepssis']).to_csv('S3817788 predictions.csv')"
   ]
  },
  {
   "cell_type": "markdown",
   "id": "6684f867",
   "metadata": {},
   "source": [
    "# Reference"
   ]
  },
  {
   "cell_type": "markdown",
   "id": "720da743",
   "metadata": {},
   "source": [
    "Centers for Disease Control and Prevention n.d, *High Blood Pressure Symptoms and Causes*, Centers for Disease Control and Prevention, viewed 7 April 2022, \\<https://www.cdc.gov/bloodpressure/about.htm#:~:text=The%20second%20number%2C%20called%20diastolic,%E2%80%9C120%2F80%20mmHg.%E2%80%9D>\n",
    "\n",
    "GeeksforGeeks 2021, *Normalization vs Standardization*, GeeksforGeeks, viewed 7 April 2022, \\<https://www.geeksforgeeks.org/normalization-vs-standardization/>\n",
    "\n",
    "National Heart, Lung, and Blood Institudte n.d, *Calculate Your Body Mass Index*, National Heart, Lung, and Blood Institudte, viewed 7 April 2022, \\<https://www.nhlbi.nih.gov/health/educational/lose_wt/BMI/bmicalc.htm>\n",
    "\n",
    "News in Health 2014, *Surviving Sepsis*, News in Health, viewed 7 April 2022, \\<https://newsinhealth.nih.gov/2014/08/surviving-sepsis>\n",
    "\n",
    "Nguyen B 2022, *W3 - Lab Exercises*, Nguyen B, viewed 7 April 2022, \\<https://rmit.instructure.com/courses/101178/pages/w3-lab-exercises?module_item_id=3902867>\n",
    "\n",
    "Nguyen B 2022, *W4 - Lab Exercises*, Nguyen B, viewed 7 April 2022, \\<https://rmit.instructure.com/courses/101178/pages/w4-lab-exercises?module_item_id=3902884>\n",
    "\n",
    "Nguyen B 2022, *W5 - Lab Exercises*, Nguyen B, viewed 7 April 2022, \\<https://rmit.instructure.com/courses/101178/pages/w5-lab-exercises?module_item_id=3902899>\n",
    "\n",
    "Rahul105 2021, *Tune Hyperparameters with GridSearchCV*, Analytics Vidhya, viewed 7 April 2022, \\<https://www.analyticsvidhya.com/blog/2021/06/tune-hyperparameters-with-gridsearchcv/>\n",
    "\n",
    "Victor 2021, *Understanding the AUC-ROC Curve in Machine Learning Classification*, Analytics India Magazine, viewed 7 April 2022, \\<https://analyticsindiamag.com/understanding-the-auc-roc-curve-in-machine-learning-classification/>"
   ]
  }
 ],
 "metadata": {
  "kernelspec": {
   "display_name": "Python 3 (ipykernel)",
   "language": "python",
   "name": "python3"
  },
  "language_info": {
   "codemirror_mode": {
    "name": "ipython",
    "version": 3
   },
   "file_extension": ".py",
   "mimetype": "text/x-python",
   "name": "python",
   "nbconvert_exporter": "python",
   "pygments_lexer": "ipython3",
   "version": "3.9.7"
  }
 },
 "nbformat": 4,
 "nbformat_minor": 5
}
